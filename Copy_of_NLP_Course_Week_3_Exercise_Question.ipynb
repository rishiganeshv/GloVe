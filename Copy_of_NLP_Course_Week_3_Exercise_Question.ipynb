{
  "nbformat": 4,
  "nbformat_minor": 0,
  "metadata": {
    "colab": {
      "name": "Copy of NLP Course - Week 3 Exercise Question.ipynb",
      "version": "0.3.2",
      "provenance": [],
      "include_colab_link": true
    },
    "kernelspec": {
      "name": "python3",
      "display_name": "Python 3"
    },
    "accelerator": "GPU"
  },
  "cells": [
    {
      "cell_type": "markdown",
      "metadata": {
        "id": "view-in-github",
        "colab_type": "text"
      },
      "source": [
        "<a href=\"https://colab.research.google.com/github/rishiganeshv/GloVe/blob/master/Copy_of_NLP_Course_Week_3_Exercise_Question.ipynb\" target=\"_parent\"><img src=\"https://colab.research.google.com/assets/colab-badge.svg\" alt=\"Open In Colab\"/></a>"
      ]
    },
    {
      "cell_type": "code",
      "metadata": {
        "id": "hmA6EzkQJ5jt",
        "colab_type": "code",
        "colab": {}
      },
      "source": [
        "import json\n",
        "import tensorflow as tf\n",
        "import csv\n",
        "import random\n",
        "import numpy as np\n",
        "\n",
        "from tensorflow.keras.preprocessing.text import Tokenizer\n",
        "from tensorflow.keras.preprocessing.sequence import pad_sequences\n",
        "from tensorflow.keras.utils import to_categorical\n",
        "from tensorflow.keras import regularizers\n",
        "\n",
        "\n",
        "embedding_dim = 100\n",
        "max_length = 16\n",
        "trunc_type='post'\n",
        "padding_type='post'\n",
        "oov_tok = \"<OOV>\"\n",
        "training_size= 160000 #Your dataset size here. Experiment using smaller values (i.e. 16000), but don't forget to train on at least 160000 to see the best effects\n",
        "test_portion=.1\n",
        "\n",
        "corpus = []\n"
      ],
      "execution_count": 0,
      "outputs": []
    },
    {
      "cell_type": "code",
      "metadata": {
        "id": "bM0l_dORKqE0",
        "colab_type": "code",
        "outputId": "3ace8419-c80c-4173-eae6-a5620e1a4be7",
        "colab": {
          "base_uri": "https://localhost:8080/",
          "height": 204
        }
      },
      "source": [
        "\n",
        "# Note that I cleaned the Stanford dataset to remove LATIN1 encoding to make it easier for Python CSV reader\n",
        "# You can do that yourself with:\n",
        "# iconv -f LATIN1 -t UTF8 training.1600000.processed.noemoticon.csv -o training_cleaned.csv\n",
        "# I then hosted it on my site to make it easier to use in this notebook\n",
        "\n",
        "!wget --no-check-certificate \\\n",
        "    https://storage.googleapis.com/laurencemoroney-blog.appspot.com/training_cleaned.csv \\\n",
        "    -O /tmp/training_cleaned.csv\n",
        "\n",
        "num_sentences = 0\n",
        "\n",
        "with open(\"/tmp/training_cleaned.csv\") as csvfile:\n",
        "    reader = csv.reader(csvfile, delimiter=',')\n",
        "    for row in reader:\n",
        "        list_item=[]\n",
        "        list_item.append(row[5])\n",
        "        this_label=row[0]\n",
        "        if this_label=='0':\n",
        "            list_item.append(0)\n",
        "        else:\n",
        "            list_item.append(1)\n",
        "        num_sentences = num_sentences + 1\n",
        "        corpus.append(list_item)\n",
        "\n",
        "\n"
      ],
      "execution_count": 0,
      "outputs": [
        {
          "output_type": "stream",
          "text": [
            "--2019-08-13 05:12:40--  https://storage.googleapis.com/laurencemoroney-blog.appspot.com/training_cleaned.csv\n",
            "Resolving storage.googleapis.com (storage.googleapis.com)... 74.125.142.128, 2607:f8b0:400e:c00::80\n",
            "Connecting to storage.googleapis.com (storage.googleapis.com)|74.125.142.128|:443... connected.\n",
            "HTTP request sent, awaiting response... 200 OK\n",
            "Length: 238942690 (228M) [application/octet-stream]\n",
            "Saving to: ‘/tmp/training_cleaned.csv’\n",
            "\n",
            "/tmp/training_clean 100%[===================>] 227.87M   196MB/s    in 1.2s    \n",
            "\n",
            "2019-08-13 05:12:41 (196 MB/s) - ‘/tmp/training_cleaned.csv’ saved [238942690/238942690]\n",
            "\n"
          ],
          "name": "stdout"
        }
      ]
    },
    {
      "cell_type": "code",
      "metadata": {
        "id": "3kxblBUjEUX-",
        "colab_type": "code",
        "outputId": "38dc9a32-e98f-4b44-c8e8-4f9d134de850",
        "colab": {
          "base_uri": "https://localhost:8080/",
          "height": 68
        }
      },
      "source": [
        "print(num_sentences)\n",
        "print(len(corpus))\n",
        "print(corpus[1])\n",
        "\n",
        "# Expected Output:\n",
        "# 1600000\n",
        "# 1600000\n",
        "# [\"is upset that he can't update his Facebook by texting it... and might cry as a result  School today also. Blah!\", 0]"
      ],
      "execution_count": 0,
      "outputs": [
        {
          "output_type": "stream",
          "text": [
            "1600000\n",
            "1600000\n",
            "[\"is upset that he can't update his Facebook by texting it... and might cry as a result  School today also. Blah!\", 0]\n"
          ],
          "name": "stdout"
        }
      ]
    },
    {
      "cell_type": "code",
      "metadata": {
        "id": "ohOGz24lsNAD",
        "colab_type": "code",
        "colab": {}
      },
      "source": [
        "sentences=[]\n",
        "labels=[]\n",
        "random.shuffle(corpus)\n",
        "for x in range(training_size):\n",
        "    sentences.append(corpus[x][0])\n",
        "    labels.append(corpus[x][1])\n",
        "\n",
        "\n",
        "tokenizer = Tokenizer()\n",
        "tokenizer.fit_on_texts(sentences)\n",
        "\n",
        "word_index = tokenizer.word_index\n",
        "vocab_size=len(word_index)\n",
        "\n",
        "sequences = tokenizer.texts_to_sequences(sentences)\n",
        "padded = pad_sequences(sequences, maxlen=max_length, padding=padding_type, truncating=trunc_type)\n",
        "\n",
        "split = int(test_portion * training_size)\n",
        "\n",
        "test_sequences = padded[0:split]\n",
        "training_sequences = padded[split:training_size]\n",
        "test_labels = labels[0:split]\n",
        "training_labels = labels[split:training_size]"
      ],
      "execution_count": 0,
      "outputs": []
    },
    {
      "cell_type": "code",
      "metadata": {
        "id": "gIrtRem1En3N",
        "colab_type": "code",
        "outputId": "c73b6b0c-2114-4486-edfd-8f7d45e4a5e2",
        "colab": {
          "base_uri": "https://localhost:8080/",
          "height": 51
        }
      },
      "source": [
        "print(vocab_size)\n",
        "print(word_index['i'])\n",
        "# Expected Output\n",
        "# 138858\n",
        "# 1"
      ],
      "execution_count": 0,
      "outputs": [
        {
          "output_type": "stream",
          "text": [
            "138828\n",
            "1\n"
          ],
          "name": "stdout"
        }
      ]
    },
    {
      "cell_type": "code",
      "metadata": {
        "id": "C1zdgJkusRh0",
        "colab_type": "code",
        "outputId": "213c62db-eda0-493a-f9c1-07bf6627ba61",
        "colab": {
          "base_uri": "https://localhost:8080/",
          "height": 204
        }
      },
      "source": [
        "# Note this is the 100 dimension version of GloVe from Stanford\n",
        "# I unzipped and hosted it on my site to make this notebook easier\n",
        "!wget --no-check-certificate \\\n",
        "    https://storage.googleapis.com/laurencemoroney-blog.appspot.com/glove.6B.100d.txt \\\n",
        "    -O /tmp/glove.6B.100d.txt\n",
        "embeddings_index = {};\n",
        "with open('/tmp/glove.6B.100d.txt') as f:\n",
        "    for line in f:\n",
        "        values = line.split();\n",
        "        word = values[0];\n",
        "        coefs = np.asarray(values[1:], dtype='float32');\n",
        "        embeddings_index[word] = coefs;\n",
        "\n",
        "embeddings_matrix = np.zeros((vocab_size+1, embedding_dim));\n",
        "for word, i in word_index.items():\n",
        "    embedding_vector = embeddings_index.get(word);\n",
        "    if embedding_vector is not None:\n",
        "        embeddings_matrix[i] = embedding_vector;"
      ],
      "execution_count": 0,
      "outputs": [
        {
          "output_type": "stream",
          "text": [
            "--2019-08-13 05:14:43--  https://storage.googleapis.com/laurencemoroney-blog.appspot.com/glove.6B.100d.txt\n",
            "Resolving storage.googleapis.com (storage.googleapis.com)... 74.125.20.128, 2607:f8b0:400e:c08::80\n",
            "Connecting to storage.googleapis.com (storage.googleapis.com)|74.125.20.128|:443... connected.\n",
            "HTTP request sent, awaiting response... 200 OK\n",
            "Length: 347116733 (331M) [text/plain]\n",
            "Saving to: ‘/tmp/glove.6B.100d.txt’\n",
            "\n",
            "/tmp/glove.6B.100d. 100%[===================>] 331.04M   110MB/s    in 3.0s    \n",
            "\n",
            "2019-08-13 05:14:47 (110 MB/s) - ‘/tmp/glove.6B.100d.txt’ saved [347116733/347116733]\n",
            "\n"
          ],
          "name": "stdout"
        }
      ]
    },
    {
      "cell_type": "code",
      "metadata": {
        "id": "71NLk_lpFLNt",
        "colab_type": "code",
        "outputId": "d4572e54-f7e8-4d8c-8ba8-77568b61eeac",
        "colab": {
          "base_uri": "https://localhost:8080/",
          "height": 34
        }
      },
      "source": [
        "print(len(embeddings_matrix))\n",
        "# Expected Output\n",
        "# 138859"
      ],
      "execution_count": 0,
      "outputs": [
        {
          "output_type": "stream",
          "text": [
            "138829\n"
          ],
          "name": "stdout"
        }
      ]
    },
    {
      "cell_type": "code",
      "metadata": {
        "colab_type": "code",
        "id": "iKKvbuEBOGFz",
        "outputId": "a2842501-56b9-463e-c3b4-96303f557e5d",
        "colab": {
          "base_uri": "https://localhost:8080/",
          "height": 1000
        }
      },
      "source": [
        "model = tf.keras.Sequential([\n",
        "    tf.keras.layers.Embedding(vocab_size+1, embedding_dim, input_length=max_length, weights=[embeddings_matrix], trainable=False),\n",
        "    tf.keras.layers.Dropout(0.2),\n",
        "    tf.keras.layers.Conv1D(64, 5, activation='relu'),\n",
        "    tf.keras.layers.MaxPooling1D(pool_size=4),\n",
        "    tf.keras.layers.LSTM(64),\n",
        "    tf.keras.layers.Dense(1, activation='sigmoid')\n",
        "])\n",
        "model.compile(loss='binary_crossentropy',optimizer='adam',metrics=['accuracy'])\n",
        "model.summary()\n",
        "\n",
        "num_epochs = 50\n",
        "history = model.fit(training_sequences, training_labels, epochs=num_epochs, validation_data=(test_sequences, test_labels), verbose=2)\n",
        "\n",
        "\n",
        "print(\"Training Complete\")\n"
      ],
      "execution_count": 0,
      "outputs": [
        {
          "output_type": "stream",
          "text": [
            "WARNING: Logging before flag parsing goes to stderr.\n",
            "W0813 05:15:45.446853 139718754609024 deprecation.py:506] From /usr/local/lib/python3.6/dist-packages/tensorflow/python/keras/initializers.py:119: calling RandomUniform.__init__ (from tensorflow.python.ops.init_ops) with dtype is deprecated and will be removed in a future version.\n",
            "Instructions for updating:\n",
            "Call initializer instance with the dtype argument instead of passing it to the constructor\n",
            "W0813 05:15:45.453508 139718754609024 deprecation.py:506] From /usr/local/lib/python3.6/dist-packages/tensorflow/python/ops/init_ops.py:1251: calling VarianceScaling.__init__ (from tensorflow.python.ops.init_ops) with dtype is deprecated and will be removed in a future version.\n",
            "Instructions for updating:\n",
            "Call initializer instance with the dtype argument instead of passing it to the constructor\n",
            "W0813 05:15:48.824087 139718754609024 deprecation.py:323] From /usr/local/lib/python3.6/dist-packages/tensorflow/python/ops/nn_impl.py:180: add_dispatch_support.<locals>.wrapper (from tensorflow.python.ops.array_ops) is deprecated and will be removed in a future version.\n",
            "Instructions for updating:\n",
            "Use tf.where in 2.0, which has the same broadcast rule as np.where\n"
          ],
          "name": "stderr"
        },
        {
          "output_type": "stream",
          "text": [
            "Model: \"sequential\"\n",
            "_________________________________________________________________\n",
            "Layer (type)                 Output Shape              Param #   \n",
            "=================================================================\n",
            "embedding (Embedding)        (None, 16, 100)           13882900  \n",
            "_________________________________________________________________\n",
            "dropout (Dropout)            (None, 16, 100)           0         \n",
            "_________________________________________________________________\n",
            "conv1d (Conv1D)              (None, 12, 64)            32064     \n",
            "_________________________________________________________________\n",
            "max_pooling1d (MaxPooling1D) (None, 3, 64)             0         \n",
            "_________________________________________________________________\n",
            "lstm (LSTM)                  (None, 64)                33024     \n",
            "_________________________________________________________________\n",
            "dense (Dense)                (None, 1)                 65        \n",
            "=================================================================\n",
            "Total params: 13,948,053\n",
            "Trainable params: 65,153\n",
            "Non-trainable params: 13,882,900\n",
            "_________________________________________________________________\n",
            "Train on 144000 samples, validate on 16000 samples\n",
            "Epoch 1/50\n",
            "144000/144000 - 41s - loss: 0.5658 - acc: 0.7013 - val_loss: 0.5200 - val_acc: 0.7349\n",
            "Epoch 2/50\n",
            "144000/144000 - 64s - loss: 0.5256 - acc: 0.7331 - val_loss: 0.5097 - val_acc: 0.7437\n",
            "Epoch 3/50\n",
            "144000/144000 - 70s - loss: 0.5095 - acc: 0.7452 - val_loss: 0.5050 - val_acc: 0.7469\n",
            "Epoch 4/50\n",
            "144000/144000 - 70s - loss: 0.4990 - acc: 0.7528 - val_loss: 0.5010 - val_acc: 0.7477\n",
            "Epoch 5/50\n",
            "144000/144000 - 71s - loss: 0.4904 - acc: 0.7569 - val_loss: 0.5017 - val_acc: 0.7489\n",
            "Epoch 6/50\n",
            "144000/144000 - 70s - loss: 0.4832 - acc: 0.7628 - val_loss: 0.5107 - val_acc: 0.7433\n",
            "Epoch 7/50\n",
            "144000/144000 - 70s - loss: 0.4773 - acc: 0.7669 - val_loss: 0.4993 - val_acc: 0.7536\n",
            "Epoch 8/50\n",
            "144000/144000 - 72s - loss: 0.4727 - acc: 0.7697 - val_loss: 0.5025 - val_acc: 0.7489\n",
            "Epoch 9/50\n",
            "144000/144000 - 73s - loss: 0.4683 - acc: 0.7708 - val_loss: 0.5038 - val_acc: 0.7508\n",
            "Epoch 10/50\n",
            "144000/144000 - 70s - loss: 0.4648 - acc: 0.7737 - val_loss: 0.4982 - val_acc: 0.7506\n",
            "Epoch 11/50\n",
            "144000/144000 - 71s - loss: 0.4617 - acc: 0.7760 - val_loss: 0.5007 - val_acc: 0.7498\n",
            "Epoch 12/50\n",
            "144000/144000 - 70s - loss: 0.4587 - acc: 0.7769 - val_loss: 0.5043 - val_acc: 0.7511\n",
            "Epoch 13/50\n",
            "144000/144000 - 71s - loss: 0.4552 - acc: 0.7797 - val_loss: 0.5054 - val_acc: 0.7480\n",
            "Epoch 14/50\n",
            "144000/144000 - 72s - loss: 0.4536 - acc: 0.7810 - val_loss: 0.5101 - val_acc: 0.7486\n",
            "Epoch 15/50\n",
            "144000/144000 - 72s - loss: 0.4508 - acc: 0.7821 - val_loss: 0.5065 - val_acc: 0.7483\n",
            "Epoch 16/50\n",
            "144000/144000 - 74s - loss: 0.4498 - acc: 0.7838 - val_loss: 0.5073 - val_acc: 0.7473\n",
            "Epoch 17/50\n",
            "144000/144000 - 71s - loss: 0.4473 - acc: 0.7851 - val_loss: 0.5085 - val_acc: 0.7481\n",
            "Epoch 18/50\n",
            "144000/144000 - 71s - loss: 0.4443 - acc: 0.7862 - val_loss: 0.5130 - val_acc: 0.7480\n",
            "Epoch 19/50\n",
            "144000/144000 - 71s - loss: 0.4448 - acc: 0.7851 - val_loss: 0.5122 - val_acc: 0.7493\n",
            "Epoch 20/50\n",
            "144000/144000 - 71s - loss: 0.4441 - acc: 0.7872 - val_loss: 0.5132 - val_acc: 0.7460\n",
            "Epoch 21/50\n",
            "144000/144000 - 71s - loss: 0.4428 - acc: 0.7871 - val_loss: 0.5169 - val_acc: 0.7471\n",
            "Epoch 22/50\n",
            "144000/144000 - 71s - loss: 0.4416 - acc: 0.7888 - val_loss: 0.5117 - val_acc: 0.7496\n",
            "Epoch 23/50\n",
            "144000/144000 - 73s - loss: 0.4403 - acc: 0.7890 - val_loss: 0.5198 - val_acc: 0.7437\n",
            "Epoch 24/50\n",
            "144000/144000 - 70s - loss: 0.4402 - acc: 0.7894 - val_loss: 0.5098 - val_acc: 0.7477\n",
            "Epoch 25/50\n",
            "144000/144000 - 70s - loss: 0.4382 - acc: 0.7910 - val_loss: 0.5189 - val_acc: 0.7479\n",
            "Epoch 26/50\n",
            "144000/144000 - 71s - loss: 0.4379 - acc: 0.7912 - val_loss: 0.5129 - val_acc: 0.7482\n",
            "Epoch 27/50\n",
            "144000/144000 - 70s - loss: 0.4381 - acc: 0.7900 - val_loss: 0.5199 - val_acc: 0.7446\n",
            "Epoch 28/50\n",
            "144000/144000 - 69s - loss: 0.4367 - acc: 0.7906 - val_loss: 0.5124 - val_acc: 0.7498\n",
            "Epoch 29/50\n",
            "144000/144000 - 70s - loss: 0.4345 - acc: 0.7923 - val_loss: 0.5207 - val_acc: 0.7436\n",
            "Epoch 30/50\n",
            "144000/144000 - 72s - loss: 0.4338 - acc: 0.7922 - val_loss: 0.5154 - val_acc: 0.7478\n",
            "Epoch 31/50\n",
            "144000/144000 - 71s - loss: 0.4341 - acc: 0.7916 - val_loss: 0.5175 - val_acc: 0.7448\n",
            "Epoch 32/50\n",
            "144000/144000 - 70s - loss: 0.4347 - acc: 0.7918 - val_loss: 0.5150 - val_acc: 0.7429\n",
            "Epoch 33/50\n",
            "144000/144000 - 70s - loss: 0.4322 - acc: 0.7939 - val_loss: 0.5268 - val_acc: 0.7446\n",
            "Epoch 34/50\n",
            "144000/144000 - 68s - loss: 0.4334 - acc: 0.7937 - val_loss: 0.5212 - val_acc: 0.7452\n",
            "Epoch 35/50\n",
            "144000/144000 - 69s - loss: 0.4324 - acc: 0.7927 - val_loss: 0.5205 - val_acc: 0.7477\n",
            "Epoch 36/50\n",
            "144000/144000 - 69s - loss: 0.4303 - acc: 0.7939 - val_loss: 0.5188 - val_acc: 0.7491\n",
            "Epoch 37/50\n",
            "144000/144000 - 70s - loss: 0.4309 - acc: 0.7950 - val_loss: 0.5231 - val_acc: 0.7431\n",
            "Epoch 38/50\n",
            "144000/144000 - 69s - loss: 0.4309 - acc: 0.7944 - val_loss: 0.5205 - val_acc: 0.7443\n",
            "Epoch 39/50\n",
            "144000/144000 - 68s - loss: 0.4303 - acc: 0.7950 - val_loss: 0.5179 - val_acc: 0.7446\n",
            "Epoch 40/50\n",
            "144000/144000 - 69s - loss: 0.4301 - acc: 0.7947 - val_loss: 0.5217 - val_acc: 0.7454\n",
            "Epoch 41/50\n",
            "144000/144000 - 69s - loss: 0.4299 - acc: 0.7948 - val_loss: 0.5205 - val_acc: 0.7464\n",
            "Epoch 42/50\n",
            "144000/144000 - 68s - loss: 0.4299 - acc: 0.7950 - val_loss: 0.5188 - val_acc: 0.7470\n",
            "Epoch 43/50\n",
            "144000/144000 - 68s - loss: 0.4288 - acc: 0.7951 - val_loss: 0.5267 - val_acc: 0.7456\n",
            "Epoch 44/50\n",
            "144000/144000 - 69s - loss: 0.4299 - acc: 0.7957 - val_loss: 0.5275 - val_acc: 0.7452\n",
            "Epoch 45/50\n",
            "144000/144000 - 70s - loss: 0.4286 - acc: 0.7946 - val_loss: 0.5214 - val_acc: 0.7479\n",
            "Epoch 46/50\n",
            "144000/144000 - 68s - loss: 0.4289 - acc: 0.7959 - val_loss: 0.5200 - val_acc: 0.7458\n",
            "Epoch 47/50\n",
            "144000/144000 - 68s - loss: 0.4278 - acc: 0.7964 - val_loss: 0.5241 - val_acc: 0.7446\n",
            "Epoch 48/50\n",
            "144000/144000 - 68s - loss: 0.4282 - acc: 0.7958 - val_loss: 0.5258 - val_acc: 0.7424\n",
            "Epoch 49/50\n",
            "144000/144000 - 68s - loss: 0.4292 - acc: 0.7957 - val_loss: 0.5191 - val_acc: 0.7449\n",
            "Epoch 50/50\n",
            "144000/144000 - 68s - loss: 0.4281 - acc: 0.7952 - val_loss: 0.5216 - val_acc: 0.7420\n",
            "Training Complete\n"
          ],
          "name": "stdout"
        }
      ]
    },
    {
      "cell_type": "code",
      "metadata": {
        "id": "qxju4ItJKO8F",
        "colab_type": "code",
        "outputId": "51769d0f-7f69-4569-ca14-0f568515f877",
        "colab": {
          "base_uri": "https://localhost:8080/",
          "height": 607
        }
      },
      "source": [
        "import matplotlib.image  as mpimg\n",
        "import matplotlib.pyplot as plt\n",
        "\n",
        "#-----------------------------------------------------------\n",
        "# Retrieve a list of list results on training and test data\n",
        "# sets for each training epoch\n",
        "#-----------------------------------------------------------\n",
        "acc=history.history['acc']\n",
        "val_acc=history.history['val_acc']\n",
        "loss=history.history['loss']\n",
        "val_loss=history.history['val_loss']\n",
        "\n",
        "epochs=range(len(acc)) # Get number of epochs\n",
        "\n",
        "#------------------------------------------------\n",
        "# Plot training and validation accuracy per epoch\n",
        "#------------------------------------------------\n",
        "plt.plot(epochs, acc, 'r')\n",
        "plt.plot(epochs, val_acc, 'b')\n",
        "plt.title('Training and validation accuracy')\n",
        "plt.xlabel(\"Epochs\")\n",
        "plt.ylabel(\"Accuracy\")\n",
        "plt.legend([\"Accuracy\", \"Validation Accuracy\"])\n",
        "\n",
        "plt.figure()\n",
        "\n",
        "#------------------------------------------------\n",
        "# Plot training and validation loss per epoch\n",
        "#------------------------------------------------\n",
        "plt.plot(epochs, loss, 'r')\n",
        "plt.plot(epochs, val_loss, 'b')\n",
        "plt.title('Training and validation loss')\n",
        "plt.xlabel(\"Epochs\")\n",
        "plt.ylabel(\"Loss\")\n",
        "plt.legend([\"Loss\", \"Validation Loss\"])\n",
        "\n",
        "plt.figure()\n",
        "\n",
        "\n",
        "# Expected Output\n",
        "# A chart where the validation loss does not increase sharply!"
      ],
      "execution_count": 0,
      "outputs": [
        {
          "output_type": "execute_result",
          "data": {
            "text/plain": [
              "<Figure size 432x288 with 0 Axes>"
            ]
          },
          "metadata": {
            "tags": []
          },
          "execution_count": 12
        },
        {
          "output_type": "display_data",
          "data": {
            "image/png": "[encoded data removed]",
            "text/plain": [
              "<Figure size 432x288 with 1 Axes>"
            ]
          },
          "metadata": {
            "tags": []
          }
        },
        {
          "output_type": "display_data",
          "data": {
            "image/png": "[encoded data removed]",
            "text/plain": [
              "<Figure size 432x288 with 1 Axes>"
            ]
          },
          "metadata": {
            "tags": []
          }
        },
        {
          "output_type": "display_data",
          "data": {
            "text/plain": [
              "<Figure size 432x288 with 0 Axes>"
            ]
          },
          "metadata": {
            "tags": []
          }
        }
      ]
    }
  ]
}